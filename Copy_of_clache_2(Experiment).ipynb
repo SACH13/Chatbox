{
  "cells": [
    {
      "cell_type": "markdown",
      "metadata": {
        "id": "view-in-github",
        "colab_type": "text"
      },
      "source": [
        "<a href=\"https://colab.research.google.com/github/SACH13/Chatbox/blob/main/Copy_of_clache_2(Experiment).ipynb\" target=\"_parent\"><img src=\"https://colab.research.google.com/assets/colab-badge.svg\" alt=\"Open In Colab\"/></a>"
      ]
    },
    {
      "cell_type": "code",
      "execution_count": null,
      "id": "8bb199f6",
      "metadata": {
        "id": "8bb199f6"
      },
      "outputs": [],
      "source": [
        "import numpy as np\n",
        "import pandas as pd\n",
        "%matplotlib inline\n",
        "import matplotlib as mpl\n",
        "import matplotlib.pyplot as plt\n",
        "import os\n"
      ]
    },
    {
      "cell_type": "code",
      "source": [
        "from google.colab import drive\n",
        "drive.mount('/content/drive')"
      ],
      "metadata": {
        "colab": {
          "base_uri": "https://localhost:8080/"
        },
        "id": "72E8SMJSZMia",
        "outputId": "fea23023-9d59-42b9-d688-82dabecb4b07"
      },
      "id": "72E8SMJSZMia",
      "execution_count": null,
      "outputs": [
        {
          "output_type": "stream",
          "name": "stdout",
          "text": [
            "Mounted at /content/drive\n"
          ]
        }
      ]
    },
    {
      "cell_type": "code",
      "execution_count": null,
      "id": "a2984189",
      "metadata": {
        "id": "a2984189"
      },
      "outputs": [],
      "source": [
        "import tensorflow as tf\n",
        "from tensorflow import keras"
      ]
    },
    {
      "cell_type": "code",
      "execution_count": null,
      "id": "1317f07e",
      "metadata": {
        "id": "1317f07e"
      },
      "outputs": [],
      "source": [
        "train_dir=r'/content/drive/MyDrive/Clache2/validation'\n",
        "validation_dir=r'/content/drive/MyDrive/Clache2/train'\n",
        "#test_dir=r'C:\\Users\\HP\\resize_valid_final'"
      ]
    },
    {
      "cell_type": "code",
      "execution_count": null,
      "id": "6b45aaca",
      "metadata": {
        "id": "6b45aaca"
      },
      "outputs": [],
      "source": [
        "from tensorflow.keras.preprocessing.image import ImageDataGenerator"
      ]
    },
    {
      "cell_type": "code",
      "execution_count": null,
      "id": "aee7bd8f",
      "metadata": {
        "colab": {
          "base_uri": "https://localhost:8080/"
        },
        "id": "aee7bd8f",
        "outputId": "34a9a137-b93f-4b89-c601-36ce7457003e"
      },
      "outputs": [
        {
          "output_type": "stream",
          "name": "stdout",
          "text": [
            "Found 6731 images belonging to 3 classes.\n",
            "Found 1481 images belonging to 3 classes.\n"
          ]
        }
      ],
      "source": [
        "train_datagen = ImageDataGenerator(\n",
        "    rescale=1./255,\n",
        "    rotation_range=40,\n",
        "    width_shift_range=0.2,\n",
        "    height_shift_range=0.2,\n",
        "    shear_range=0.2,\n",
        "    zoom_range=0.2,\n",
        "    horizontal_flip=True,)\n",
        "\n",
        "test_datagen = ImageDataGenerator(rescale=1./255)\n",
        "\n",
        "train_generator = train_datagen.flow_from_directory(\n",
        "        train_dir,\n",
        "        target_size=(150, 150),\n",
        "        batch_size=20,\n",
        "        )\n",
        "\n",
        "validation_generator = test_datagen.flow_from_directory(\n",
        "        validation_dir,\n",
        "        target_size=(150, 150),\n",
        "        batch_size=20,\n",
        "        )"
      ]
    },
    {
      "cell_type": "code",
      "execution_count": null,
      "id": "0097bf31",
      "metadata": {
        "id": "0097bf31"
      },
      "outputs": [],
      "source": [
        "from tensorflow.keras.applications import VGG16"
      ]
    },
    {
      "cell_type": "code",
      "execution_count": null,
      "id": "7466468d",
      "metadata": {
        "id": "7466468d"
      },
      "outputs": [],
      "source": [
        "conv_base=VGG16(weights='imagenet',include_top=False,input_shape=(150,150,3))"
      ]
    },
    {
      "cell_type": "code",
      "execution_count": null,
      "id": "55176ffc",
      "metadata": {
        "colab": {
          "base_uri": "https://localhost:8080/"
        },
        "id": "55176ffc",
        "outputId": "bbc527a6-4900-41c7-e8c1-31e86ada3bd1"
      },
      "outputs": [
        {
          "output_type": "stream",
          "name": "stdout",
          "text": [
            "Model: \"vgg16\"\n",
            "_________________________________________________________________\n",
            " Layer (type)                Output Shape              Param #   \n",
            "=================================================================\n",
            " input_1 (InputLayer)        [(None, 150, 150, 3)]     0         \n",
            "                                                                 \n",
            " block1_conv1 (Conv2D)       (None, 150, 150, 64)      1792      \n",
            "                                                                 \n",
            " block1_conv2 (Conv2D)       (None, 150, 150, 64)      36928     \n",
            "                                                                 \n",
            " block1_pool (MaxPooling2D)  (None, 75, 75, 64)        0         \n",
            "                                                                 \n",
            " block2_conv1 (Conv2D)       (None, 75, 75, 128)       73856     \n",
            "                                                                 \n",
            " block2_conv2 (Conv2D)       (None, 75, 75, 128)       147584    \n",
            "                                                                 \n",
            " block2_pool (MaxPooling2D)  (None, 37, 37, 128)       0         \n",
            "                                                                 \n",
            " block3_conv1 (Conv2D)       (None, 37, 37, 256)       295168    \n",
            "                                                                 \n",
            " block3_conv2 (Conv2D)       (None, 37, 37, 256)       590080    \n",
            "                                                                 \n",
            " block3_conv3 (Conv2D)       (None, 37, 37, 256)       590080    \n",
            "                                                                 \n",
            " block3_pool (MaxPooling2D)  (None, 18, 18, 256)       0         \n",
            "                                                                 \n",
            " block4_conv1 (Conv2D)       (None, 18, 18, 512)       1180160   \n",
            "                                                                 \n",
            " block4_conv2 (Conv2D)       (None, 18, 18, 512)       2359808   \n",
            "                                                                 \n",
            " block4_conv3 (Conv2D)       (None, 18, 18, 512)       2359808   \n",
            "                                                                 \n",
            " block4_pool (MaxPooling2D)  (None, 9, 9, 512)         0         \n",
            "                                                                 \n",
            " block5_conv1 (Conv2D)       (None, 9, 9, 512)         2359808   \n",
            "                                                                 \n",
            " block5_conv2 (Conv2D)       (None, 9, 9, 512)         2359808   \n",
            "                                                                 \n",
            " block5_conv3 (Conv2D)       (None, 9, 9, 512)         2359808   \n",
            "                                                                 \n",
            " block5_pool (MaxPooling2D)  (None, 4, 4, 512)         0         \n",
            "                                                                 \n",
            "=================================================================\n",
            "Total params: 14,714,688\n",
            "Trainable params: 14,714,688\n",
            "Non-trainable params: 0\n",
            "_________________________________________________________________\n"
          ]
        }
      ],
      "source": [
        "conv_base.summary()"
      ]
    },
    {
      "cell_type": "code",
      "execution_count": null,
      "id": "6f3ea689",
      "metadata": {
        "id": "6f3ea689"
      },
      "outputs": [],
      "source": [
        "from tensorflow.keras import layers\n",
        "from tensorflow.keras import models"
      ]
    },
    {
      "cell_type": "code",
      "execution_count": null,
      "id": "078d9bfb",
      "metadata": {
        "id": "078d9bfb"
      },
      "outputs": [],
      "source": [
        "model = models.Sequential()\n",
        "model.add(conv_base)\n",
        "model.add(layers.Flatten())\n",
        "model.add(layers.Dense(256, activation='relu'))\n",
        "\n",
        "model.add(layers.Dense(3, activation='softmax'))"
      ]
    },
    {
      "cell_type": "code",
      "execution_count": null,
      "id": "baac565e",
      "metadata": {
        "colab": {
          "base_uri": "https://localhost:8080/"
        },
        "id": "baac565e",
        "outputId": "dc794808-1ceb-433c-a4a3-4e8142377dca"
      },
      "outputs": [
        {
          "output_type": "stream",
          "name": "stdout",
          "text": [
            "Model: \"sequential_1\"\n",
            "_________________________________________________________________\n",
            " Layer (type)                Output Shape              Param #   \n",
            "=================================================================\n",
            " vgg16 (Functional)          (None, 4, 4, 512)         14714688  \n",
            "                                                                 \n",
            " flatten_1 (Flatten)         (None, 8192)              0         \n",
            "                                                                 \n",
            " dense_2 (Dense)             (None, 256)               2097408   \n",
            "                                                                 \n",
            " dense_3 (Dense)             (None, 3)                 771       \n",
            "                                                                 \n",
            "=================================================================\n",
            "Total params: 16,812,867\n",
            "Trainable params: 16,812,867\n",
            "Non-trainable params: 0\n",
            "_________________________________________________________________\n"
          ]
        }
      ],
      "source": [
        "model.summary()"
      ]
    },
    {
      "cell_type": "code",
      "execution_count": null,
      "id": "240504ea",
      "metadata": {
        "id": "240504ea"
      },
      "outputs": [],
      "source": [
        "from tensorflow import optimizers"
      ]
    },
    {
      "cell_type": "code",
      "execution_count": null,
      "id": "d4a99765",
      "metadata": {
        "colab": {
          "base_uri": "https://localhost:8080/"
        },
        "id": "d4a99765",
        "outputId": "f0f506c2-6405-440e-a8d4-4ece06d1161e"
      },
      "outputs": [
        {
          "output_type": "stream",
          "name": "stderr",
          "text": [
            "/usr/local/lib/python3.7/dist-packages/keras/optimizer_v2/rmsprop.py:130: UserWarning: The `lr` argument is deprecated, use `learning_rate` instead.\n",
            "  super(RMSprop, self).__init__(name, **kwargs)\n"
          ]
        }
      ],
      "source": [
        "model.compile(loss='categorical_crossentropy',\n",
        "              optimizer=optimizers.RMSprop(lr=2e-5),\n",
        "              metrics=['acc'])"
      ]
    },
    {
      "cell_type": "code",
      "execution_count": 31,
      "id": "060e6028",
      "metadata": {
        "colab": {
          "base_uri": "https://localhost:8080/"
        },
        "id": "060e6028",
        "outputId": "6dfa385f-4a36-419e-cd7d-ae9cf1ce2dfc"
      },
      "outputs": [
        {
          "metadata": {
            "tags": null
          },
          "name": "stderr",
          "output_type": "stream",
          "text": [
            "/usr/local/lib/python3.7/dist-packages/ipykernel_launcher.py:6: UserWarning: `Model.fit_generator` is deprecated and will be removed in a future version. Please use `Model.fit`, which supports generators.\n",
            "  \n"
          ]
        },
        {
          "output_type": "stream",
          "name": "stdout",
          "text": [
            "Epoch 1/30\n",
            "336/336 [==============================] - 1618s 5s/step - loss: 0.9888 - acc: 0.5244 - val_loss: 0.9758 - val_acc: 0.5189\n",
            "Epoch 2/30\n",
            "336/336 [==============================] - 142s 423ms/step - loss: 0.9542 - acc: 0.5394 - val_loss: 0.9435 - val_acc: 0.5311\n",
            "Epoch 3/30\n",
            "336/336 [==============================] - 142s 423ms/step - loss: 0.9182 - acc: 0.5431 - val_loss: 0.9260 - val_acc: 0.5527\n",
            "Epoch 4/30\n",
            "336/336 [==============================] - 143s 426ms/step - loss: 0.8914 - acc: 0.5607 - val_loss: 0.8929 - val_acc: 0.5426\n",
            "Epoch 5/30\n",
            "336/336 [==============================] - 141s 420ms/step - loss: 0.8635 - acc: 0.5728 - val_loss: 1.0851 - val_acc: 0.5554\n",
            "Epoch 6/30\n",
            "336/336 [==============================] - 141s 418ms/step - loss: 0.8460 - acc: 0.5911 - val_loss: 0.8270 - val_acc: 0.6257\n",
            "Epoch 7/30\n",
            "336/336 [==============================] - 141s 418ms/step - loss: 0.8175 - acc: 0.6057 - val_loss: 0.8311 - val_acc: 0.6149\n",
            "Epoch 8/30\n",
            "336/336 [==============================] - 140s 418ms/step - loss: 0.7906 - acc: 0.6278 - val_loss: 0.9128 - val_acc: 0.5818\n",
            "Epoch 9/30\n",
            "336/336 [==============================] - 140s 417ms/step - loss: 0.7627 - acc: 0.6404 - val_loss: 0.8312 - val_acc: 0.6358\n",
            "Epoch 10/30\n",
            "336/336 [==============================] - 141s 418ms/step - loss: 0.7370 - acc: 0.6582 - val_loss: 0.8081 - val_acc: 0.6162\n",
            "Epoch 11/30\n",
            "336/336 [==============================] - 141s 418ms/step - loss: 0.7140 - acc: 0.6707 - val_loss: 0.8279 - val_acc: 0.6176\n",
            "Epoch 12/30\n",
            "336/336 [==============================] - 140s 416ms/step - loss: 0.6969 - acc: 0.6860 - val_loss: 1.4938 - val_acc: 0.6101\n",
            "Epoch 13/30\n",
            "336/336 [==============================] - 138s 412ms/step - loss: 0.6774 - acc: 0.6999 - val_loss: 1.0023 - val_acc: 0.6500\n",
            "Epoch 14/30\n",
            "336/336 [==============================] - 138s 411ms/step - loss: 0.6570 - acc: 0.7090 - val_loss: 0.8537 - val_acc: 0.6500\n",
            "Epoch 15/30\n",
            "336/336 [==============================] - 138s 409ms/step - loss: 0.6384 - acc: 0.7209 - val_loss: 0.8713 - val_acc: 0.6318\n",
            "Epoch 16/30\n",
            "336/336 [==============================] - 138s 409ms/step - loss: 0.6147 - acc: 0.7354 - val_loss: 1.1053 - val_acc: 0.6615\n",
            "Epoch 17/30\n",
            "336/336 [==============================] - 139s 411ms/step - loss: 0.5983 - acc: 0.7397 - val_loss: 1.1229 - val_acc: 0.6588\n",
            "Epoch 18/30\n",
            "336/336 [==============================] - 137s 407ms/step - loss: 0.5808 - acc: 0.7485 - val_loss: 0.9826 - val_acc: 0.6128\n",
            "Epoch 19/30\n",
            "336/336 [==============================] - 136s 406ms/step - loss: 0.5791 - acc: 0.7498 - val_loss: 1.0069 - val_acc: 0.6378\n",
            "Epoch 20/30\n",
            "336/336 [==============================] - 138s 410ms/step - loss: 0.5755 - acc: 0.7544 - val_loss: 0.9806 - val_acc: 0.6608\n",
            "Epoch 21/30\n",
            "336/336 [==============================] - 137s 408ms/step - loss: 0.5639 - acc: 0.7625 - val_loss: 1.2102 - val_acc: 0.6351\n",
            "Epoch 22/30\n",
            "336/336 [==============================] - 136s 405ms/step - loss: 0.5610 - acc: 0.7632 - val_loss: 1.1328 - val_acc: 0.6541\n",
            "Epoch 23/30\n",
            "336/336 [==============================] - 140s 417ms/step - loss: 0.5433 - acc: 0.7738 - val_loss: 1.5665 - val_acc: 0.6155\n",
            "Epoch 24/30\n",
            "336/336 [==============================] - 143s 424ms/step - loss: 0.5492 - acc: 0.7710 - val_loss: 1.0714 - val_acc: 0.6074\n",
            "Epoch 25/30\n",
            "336/336 [==============================] - 136s 405ms/step - loss: 0.5611 - acc: 0.7616 - val_loss: 1.2716 - val_acc: 0.6493\n",
            "Epoch 26/30\n",
            "336/336 [==============================] - 138s 410ms/step - loss: 0.5505 - acc: 0.7750 - val_loss: 1.0624 - val_acc: 0.6209\n",
            "Epoch 27/30\n",
            "336/336 [==============================] - 138s 409ms/step - loss: 0.5422 - acc: 0.7814 - val_loss: 1.3726 - val_acc: 0.6554\n",
            "Epoch 28/30\n",
            "336/336 [==============================] - 138s 410ms/step - loss: 0.5514 - acc: 0.7750 - val_loss: 1.2736 - val_acc: 0.6041\n",
            "Epoch 29/30\n",
            "336/336 [==============================] - 140s 417ms/step - loss: 0.5539 - acc: 0.7765 - val_loss: 1.0971 - val_acc: 0.6101\n",
            "Epoch 30/30\n",
            "336/336 [==============================] - 138s 412ms/step - loss: 0.5611 - acc: 0.7740 - val_loss: 1.8980 - val_acc: 0.6426\n"
          ]
        }
      ],
      "source": [
        "history = model.fit_generator(\n",
        "      train_generator,\n",
        "      steps_per_epoch=336,\n",
        "      epochs=30,\n",
        "      validation_data=validation_generator,\n",
        "      validation_steps=74)"
      ]
    }
  ],
  "metadata": {
    "kernelspec": {
      "display_name": "Python 3",
      "language": "python",
      "name": "python3"
    },
    "language_info": {
      "codemirror_mode": {
        "name": "ipython",
        "version": 3
      },
      "file_extension": ".py",
      "mimetype": "text/x-python",
      "name": "python",
      "nbconvert_exporter": "python",
      "pygments_lexer": "ipython3",
      "version": "3.8.8"
    },
    "colab": {
      "name": "Copy of clache_2(Experiment).ipynb",
      "provenance": [],
      "collapsed_sections": [],
      "include_colab_link": true
    },
    "accelerator": "GPU"
  },
  "nbformat": 4,
  "nbformat_minor": 5
}