{
  "cells": [
    {
      "cell_type": "markdown",
      "metadata": {
        "id": "view-in-github",
        "colab_type": "text"
      },
      "source": [
        "<a href=\"https://colab.research.google.com/github/SACH13/Chatbox/blob/main/densnet_cnn.ipynb\" target=\"_parent\"><img src=\"https://colab.research.google.com/assets/colab-badge.svg\" alt=\"Open In Colab\"/></a>"
      ]
    },
    {
      "cell_type": "code",
      "execution_count": null,
      "metadata": {
        "id": "3ni4UueTAeAM"
      },
      "outputs": [],
      "source": [
        "import numpy as np\n",
        "import pandas as pd\n",
        "%matplotlib inline\n",
        "import matplotlib as mpl\n",
        "import matplotlib.pyplot as plt\n",
        "import os"
      ]
    },
    {
      "cell_type": "code",
      "execution_count": null,
      "metadata": {
        "id": "-uZEI_XVA-bx"
      },
      "outputs": [],
      "source": [
        "import tensorflow as tf\n",
        "from tensorflow import keras"
      ]
    },
    {
      "cell_type": "code",
      "execution_count": null,
      "metadata": {
        "id": "bLrmRR-4A-dc"
      },
      "outputs": [],
      "source": [
        "train_dir='/content/drive/MyDrive/cnn_with-preprocessed_imge/train'\n",
        "validation_dir='/content/drive/MyDrive/cnn_with-preprocessed_imge/validate'\n",
        "test_dir='/content/drive/MyDrive/cnn_with-preprocessed_imge/test'"
      ]
    },
    {
      "cell_type": "code",
      "execution_count": null,
      "metadata": {
        "colab": {
          "base_uri": "https://localhost:8080/"
        },
        "id": "48fyOl-gDkmf",
        "outputId": "06a0797c-a55f-4e56-d205-2859db957ca4"
      },
      "outputs": [
        {
          "output_type": "stream",
          "name": "stdout",
          "text": [
            "Mounted at /content/drive\n"
          ]
        }
      ],
      "source": [
        "from google.colab import drive\n",
        "drive.mount('/content/drive')"
      ]
    },
    {
      "cell_type": "code",
      "execution_count": null,
      "metadata": {
        "id": "xYzsjrURA-gu"
      },
      "outputs": [],
      "source": [
        "from tensorflow.keras.preprocessing.image import ImageDataGenerator"
      ]
    },
    {
      "cell_type": "code",
      "execution_count": null,
      "metadata": {
        "colab": {
          "base_uri": "https://localhost:8080/"
        },
        "id": "kYZ6YDMjA-iq",
        "outputId": "a93ac33c-aa04-4931-dffa-d8e43bf088f7"
      },
      "outputs": [
        {
          "output_type": "stream",
          "name": "stdout",
          "text": [
            "Found 4096 images belonging to 3 classes.\n",
            "Found 1026 images belonging to 3 classes.\n"
          ]
        }
      ],
      "source": [
        "train_datagen = ImageDataGenerator(\n",
        "    rescale=1./255,\n",
        "    rotation_range=40,\n",
        "    width_shift_range=0.2,\n",
        "    height_shift_range=0.2,\n",
        "    shear_range=0.2,\n",
        "    zoom_range=0.2,\n",
        "    horizontal_flip=True,)\n",
        "\n",
        "test_datagen = ImageDataGenerator(rescale=1./255)\n",
        "\n",
        "train_generator = train_datagen.flow_from_directory(\n",
        "        train_dir,\n",
        "        target_size=(150, 150),\n",
        "        batch_size=20,\n",
        "        )\n",
        "\n",
        "validation_generator = test_datagen.flow_from_directory(\n",
        "        validation_dir,\n",
        "        target_size=(150, 150),\n",
        "        batch_size=20,\n",
        "        )"
      ]
    },
    {
      "cell_type": "code",
      "execution_count": null,
      "metadata": {
        "id": "dGUHyySDA-mD"
      },
      "outputs": [],
      "source": [
        "from tensorflow.keras import layers\n",
        "from tensorflow.keras import models"
      ]
    },
    {
      "cell_type": "code",
      "execution_count": null,
      "metadata": {
        "id": "EEha_NmnHq-n"
      },
      "outputs": [],
      "source": [
        "from tensorflow.keras import optimizers"
      ]
    },
    {
      "cell_type": "code",
      "execution_count": null,
      "metadata": {
        "colab": {
          "base_uri": "https://localhost:8080/"
        },
        "id": "kSCvvFq8HrHq",
        "outputId": "bf477ca4-4a22-40e0-cf03-2c612add9d25"
      },
      "outputs": [
        {
          "output_type": "stream",
          "name": "stderr",
          "text": [
            "/usr/local/lib/python3.7/dist-packages/keras/optimizer_v2/rmsprop.py:130: UserWarning: The `lr` argument is deprecated, use `learning_rate` instead.\n",
            "  super(RMSprop, self).__init__(name, **kwargs)\n"
          ]
        }
      ],
      "source": [
        "model = models.Sequential()\n",
        "model.add(layers.Conv2D(32, (3, 3), activation='relu',\n",
        "                        input_shape=(150, 150, 3)))\n",
        "model.add(layers.MaxPooling2D((2, 2)))\n",
        "model.add(layers.Conv2D(64, (3, 3), activation='relu'))\n",
        "model.add(layers.MaxPooling2D((2, 2)))\n",
        "model.add(layers.Conv2D(128, (3, 3), activation='relu'))\n",
        "model.add(layers.MaxPooling2D((2, 2)))\n",
        "model.add(layers.Conv2D(128, (3, 3), activation='relu'))\n",
        "model.add(layers.MaxPooling2D((2, 2)))\n",
        "model.add(layers.Flatten())\n",
        "model.add(layers.Dropout(0.5))\n",
        "model.add(layers.Dense(512, activation='relu'))\n",
        "model.add(layers.Dense(3, activation='softmax'))\n",
        "\n",
        "model.compile(loss='categorical_crossentropy',\n",
        "              optimizer=optimizers.RMSprop(lr=1e-4),\n",
        "              metrics=['acc'])"
      ]
    },
    {
      "cell_type": "code",
      "execution_count": null,
      "metadata": {
        "colab": {
          "base_uri": "https://localhost:8080/"
        },
        "id": "K8-bP3rXHrKe",
        "outputId": "e2823455-c1f4-48d5-8945-cca61181c138"
      },
      "outputs": [
        {
          "output_type": "stream",
          "name": "stdout",
          "text": [
            "Model: \"sequential_1\"\n",
            "_________________________________________________________________\n",
            " Layer (type)                Output Shape              Param #   \n",
            "=================================================================\n",
            " conv2d_4 (Conv2D)           (None, 148, 148, 32)      896       \n",
            "                                                                 \n",
            " max_pooling2d_4 (MaxPooling  (None, 74, 74, 32)       0         \n",
            " 2D)                                                             \n",
            "                                                                 \n",
            " conv2d_5 (Conv2D)           (None, 72, 72, 64)        18496     \n",
            "                                                                 \n",
            " max_pooling2d_5 (MaxPooling  (None, 36, 36, 64)       0         \n",
            " 2D)                                                             \n",
            "                                                                 \n",
            " conv2d_6 (Conv2D)           (None, 34, 34, 128)       73856     \n",
            "                                                                 \n",
            " max_pooling2d_6 (MaxPooling  (None, 17, 17, 128)      0         \n",
            " 2D)                                                             \n",
            "                                                                 \n",
            " conv2d_7 (Conv2D)           (None, 15, 15, 128)       147584    \n",
            "                                                                 \n",
            " max_pooling2d_7 (MaxPooling  (None, 7, 7, 128)        0         \n",
            " 2D)                                                             \n",
            "                                                                 \n",
            " flatten_1 (Flatten)         (None, 6272)              0         \n",
            "                                                                 \n",
            " dropout_1 (Dropout)         (None, 6272)              0         \n",
            "                                                                 \n",
            " dense_2 (Dense)             (None, 512)               3211776   \n",
            "                                                                 \n",
            " dense_3 (Dense)             (None, 3)                 1539      \n",
            "                                                                 \n",
            "=================================================================\n",
            "Total params: 3,454,147\n",
            "Trainable params: 3,454,147\n",
            "Non-trainable params: 0\n",
            "_________________________________________________________________\n"
          ]
        }
      ],
      "source": [
        "model.summary()"
      ]
    },
    {
      "cell_type": "code",
      "execution_count": null,
      "metadata": {
        "colab": {
          "base_uri": "https://localhost:8080/"
        },
        "id": "yz40ER1RHrNo",
        "outputId": "1ea9dca8-e709-482a-c893-57abba20bcf0"
      },
      "outputs": [
        {
          "output_type": "stream",
          "name": "stderr",
          "text": [
            "/usr/local/lib/python3.7/dist-packages/keras/optimizer_v2/rmsprop.py:130: UserWarning: The `lr` argument is deprecated, use `learning_rate` instead.\n",
            "  super(RMSprop, self).__init__(name, **kwargs)\n"
          ]
        }
      ],
      "source": [
        "from tensorflow.keras import optimizers\n",
        "\n",
        "model.compile(loss='categorical_crossentropy',\n",
        "              optimizer=optimizers.RMSprop(lr=1e-4),\n",
        "              metrics=['acc'])"
      ]
    },
    {
      "cell_type": "code",
      "execution_count": null,
      "metadata": {
        "colab": {
          "base_uri": "https://localhost:8080/"
        },
        "id": "xUc2i_0RIDR2",
        "outputId": "3b97b7e9-9f2a-4da1-8b77-aa261e156aca"
      },
      "outputs": [
        {
          "metadata": {
            "tags": null
          },
          "name": "stderr",
          "output_type": "stream",
          "text": [
            "/usr/local/lib/python3.7/dist-packages/ipykernel_launcher.py:6: UserWarning: `Model.fit_generator` is deprecated and will be removed in a future version. Please use `Model.fit`, which supports generators.\n",
            "  \n"
          ]
        },
        {
          "output_type": "stream",
          "name": "stdout",
          "text": [
            "Epoch 1/100\n",
            "150/150 [==============================] - 748s 5s/step - loss: 0.9976 - acc: 0.5353 - val_loss: 1.0017 - val_acc: 0.5083\n",
            "Epoch 2/100\n",
            "150/150 [==============================] - 274s 2s/step - loss: 0.9848 - acc: 0.5340 - val_loss: 0.9795 - val_acc: 0.5250\n",
            "Epoch 3/100\n",
            "150/150 [==============================] - 192s 1s/step - loss: 0.9692 - acc: 0.5343 - val_loss: 1.0033 - val_acc: 0.4667\n",
            "Epoch 4/100\n",
            "150/150 [==============================] - 182s 1s/step - loss: 0.9547 - acc: 0.5391 - val_loss: 0.9415 - val_acc: 0.4833\n",
            "Epoch 5/100\n",
            "150/150 [==============================] - 181s 1s/step - loss: 0.9525 - acc: 0.5297 - val_loss: 0.9966 - val_acc: 0.5667\n",
            "Epoch 6/100\n",
            "150/150 [==============================] - 174s 1s/step - loss: 0.9418 - acc: 0.5397 - val_loss: 0.9432 - val_acc: 0.5750\n",
            "Epoch 7/100\n",
            "150/150 [==============================] - 174s 1s/step - loss: 0.9485 - acc: 0.5453 - val_loss: 0.8929 - val_acc: 0.6250\n",
            "Epoch 8/100\n",
            "150/150 [==============================] - 167s 1s/step - loss: 0.9353 - acc: 0.5467 - val_loss: 0.9033 - val_acc: 0.5583\n",
            "Epoch 9/100\n",
            "150/150 [==============================] - 168s 1s/step - loss: 0.9361 - acc: 0.5484 - val_loss: 0.9090 - val_acc: 0.5583\n",
            "Epoch 10/100\n",
            "150/150 [==============================] - 167s 1s/step - loss: 0.9329 - acc: 0.5537 - val_loss: 0.8886 - val_acc: 0.5667\n",
            "Epoch 11/100\n",
            "150/150 [==============================] - 168s 1s/step - loss: 0.9335 - acc: 0.5384 - val_loss: 0.9056 - val_acc: 0.5500\n",
            "Epoch 12/100\n",
            "150/150 [==============================] - 164s 1s/step - loss: 0.9281 - acc: 0.5553 - val_loss: 0.9444 - val_acc: 0.5083\n",
            "Epoch 13/100\n",
            "150/150 [==============================] - 163s 1s/step - loss: 0.9334 - acc: 0.5447 - val_loss: 0.8408 - val_acc: 0.5917\n",
            "Epoch 14/100\n",
            "150/150 [==============================] - 162s 1s/step - loss: 0.9137 - acc: 0.5587 - val_loss: 0.7993 - val_acc: 0.6167\n",
            "Epoch 15/100\n",
            "150/150 [==============================] - 167s 1s/step - loss: 0.9258 - acc: 0.5614 - val_loss: 0.9055 - val_acc: 0.5417\n",
            "Epoch 16/100\n",
            "150/150 [==============================] - 163s 1s/step - loss: 0.9205 - acc: 0.5581 - val_loss: 0.9215 - val_acc: 0.5750\n",
            "Epoch 17/100\n",
            "150/150 [==============================] - 162s 1s/step - loss: 0.9118 - acc: 0.5721 - val_loss: 0.8661 - val_acc: 0.6250\n",
            "Epoch 18/100\n",
            "150/150 [==============================] - 163s 1s/step - loss: 0.9200 - acc: 0.5591 - val_loss: 0.8984 - val_acc: 0.5667\n",
            "Epoch 19/100\n",
            "150/150 [==============================] - 181s 1s/step - loss: 0.9052 - acc: 0.5741 - val_loss: 0.8984 - val_acc: 0.5167\n",
            "Epoch 20/100\n",
            "150/150 [==============================] - 183s 1s/step - loss: 0.9066 - acc: 0.5648 - val_loss: 0.9124 - val_acc: 0.5667\n",
            "Epoch 21/100\n",
            "150/150 [==============================] - 179s 1s/step - loss: 0.9098 - acc: 0.5613 - val_loss: 0.7986 - val_acc: 0.6167\n",
            "Epoch 22/100\n",
            "150/150 [==============================] - 178s 1s/step - loss: 0.9082 - acc: 0.5574 - val_loss: 0.9208 - val_acc: 0.5500\n",
            "Epoch 23/100\n",
            "150/150 [==============================] - 179s 1s/step - loss: 0.8980 - acc: 0.5764 - val_loss: 0.9635 - val_acc: 0.5500\n",
            "Epoch 24/100\n",
            "150/150 [==============================] - 176s 1s/step - loss: 0.8962 - acc: 0.5828 - val_loss: 0.8954 - val_acc: 0.6000\n",
            "Epoch 25/100\n",
            "150/150 [==============================] - 176s 1s/step - loss: 0.8989 - acc: 0.5674 - val_loss: 0.8532 - val_acc: 0.6083\n",
            "Epoch 26/100\n",
            "150/150 [==============================] - 176s 1s/step - loss: 0.9029 - acc: 0.5627 - val_loss: 0.7911 - val_acc: 0.6583\n",
            "Epoch 27/100\n",
            "150/150 [==============================] - 175s 1s/step - loss: 0.8885 - acc: 0.5833 - val_loss: 0.8986 - val_acc: 0.6167\n",
            "Epoch 28/100\n",
            "150/150 [==============================] - 176s 1s/step - loss: 0.8919 - acc: 0.5771 - val_loss: 0.8938 - val_acc: 0.5583\n",
            "Epoch 29/100\n",
            "150/150 [==============================] - 177s 1s/step - loss: 0.8970 - acc: 0.5784 - val_loss: 0.8792 - val_acc: 0.5750\n",
            "Epoch 30/100\n",
            "150/150 [==============================] - 176s 1s/step - loss: 0.8841 - acc: 0.5814 - val_loss: 0.7851 - val_acc: 0.6333\n",
            "Epoch 31/100\n",
            "150/150 [==============================] - 175s 1s/step - loss: 0.9027 - acc: 0.5644 - val_loss: 0.7484 - val_acc: 0.6667\n",
            "Epoch 32/100\n",
            "150/150 [==============================] - 175s 1s/step - loss: 0.8833 - acc: 0.5784 - val_loss: 0.9076 - val_acc: 0.6083\n",
            "Epoch 33/100\n",
            "150/150 [==============================] - 176s 1s/step - loss: 0.8725 - acc: 0.5823 - val_loss: 0.9647 - val_acc: 0.5500\n",
            "Epoch 34/100\n",
            "150/150 [==============================] - 173s 1s/step - loss: 0.8956 - acc: 0.5701 - val_loss: 0.7945 - val_acc: 0.6583\n",
            "Epoch 35/100\n",
            "150/150 [==============================] - 171s 1s/step - loss: 0.8900 - acc: 0.5781 - val_loss: 0.9178 - val_acc: 0.5667\n",
            "Epoch 36/100\n",
            "150/150 [==============================] - 170s 1s/step - loss: 0.8867 - acc: 0.5821 - val_loss: 0.8958 - val_acc: 0.5500\n",
            "Epoch 37/100\n",
            "150/150 [==============================] - 169s 1s/step - loss: 0.8847 - acc: 0.5905 - val_loss: 0.8044 - val_acc: 0.6083\n",
            "Epoch 38/100\n",
            "150/150 [==============================] - 156s 1s/step - loss: 0.8842 - acc: 0.5874 - val_loss: 0.9057 - val_acc: 0.5333\n",
            "Epoch 39/100\n",
            "150/150 [==============================] - 155s 1s/step - loss: 0.8901 - acc: 0.5751 - val_loss: 0.8565 - val_acc: 0.6417\n",
            "Epoch 40/100\n",
            "150/150 [==============================] - 156s 1s/step - loss: 0.8878 - acc: 0.5723 - val_loss: 0.9090 - val_acc: 0.5250\n",
            "Epoch 41/100\n",
            "150/150 [==============================] - 156s 1s/step - loss: 0.8746 - acc: 0.5831 - val_loss: 0.8671 - val_acc: 0.5917\n",
            "Epoch 42/100\n",
            "150/150 [==============================] - 156s 1s/step - loss: 0.8701 - acc: 0.5878 - val_loss: 0.8616 - val_acc: 0.5333\n",
            "Epoch 43/100\n",
            "150/150 [==============================] - 148s 985ms/step - loss: 0.8822 - acc: 0.5834 - val_loss: 0.8176 - val_acc: 0.6167\n",
            "Epoch 44/100\n",
            "150/150 [==============================] - 148s 989ms/step - loss: 0.8749 - acc: 0.5828 - val_loss: 0.8121 - val_acc: 0.6167\n",
            "Epoch 45/100\n",
            "150/150 [==============================] - 146s 973ms/step - loss: 0.8738 - acc: 0.5885 - val_loss: 0.8041 - val_acc: 0.6583\n",
            "Epoch 46/100\n",
            "150/150 [==============================] - 145s 963ms/step - loss: 0.8655 - acc: 0.5997 - val_loss: 0.9332 - val_acc: 0.5083\n",
            "Epoch 47/100\n",
            "150/150 [==============================] - 147s 976ms/step - loss: 0.8584 - acc: 0.5983 - val_loss: 0.9080 - val_acc: 0.5333\n",
            "Epoch 48/100\n",
            "150/150 [==============================] - 151s 1s/step - loss: 0.8614 - acc: 0.5991 - val_loss: 0.8582 - val_acc: 0.6500\n",
            "Epoch 49/100\n",
            "150/150 [==============================] - 156s 1s/step - loss: 0.8810 - acc: 0.5824 - val_loss: 0.8734 - val_acc: 0.5833\n",
            "Epoch 50/100\n",
            "150/150 [==============================] - 155s 1s/step - loss: 0.8805 - acc: 0.5821 - val_loss: 0.8101 - val_acc: 0.6583\n",
            "Epoch 51/100\n",
            "150/150 [==============================] - 155s 1s/step - loss: 0.8681 - acc: 0.5801 - val_loss: 0.8248 - val_acc: 0.6167\n",
            "Epoch 52/100\n",
            "150/150 [==============================] - 155s 1s/step - loss: 0.8662 - acc: 0.5907 - val_loss: 0.8305 - val_acc: 0.6333\n",
            "Epoch 53/100\n",
            "150/150 [==============================] - 155s 1s/step - loss: 0.8664 - acc: 0.5895 - val_loss: 0.7582 - val_acc: 0.6750\n",
            "Epoch 54/100\n",
            "150/150 [==============================] - 156s 1s/step - loss: 0.8683 - acc: 0.5840 - val_loss: 0.8929 - val_acc: 0.5667\n",
            "Epoch 55/100\n",
            "150/150 [==============================] - 156s 1s/step - loss: 0.8613 - acc: 0.5938 - val_loss: 0.7887 - val_acc: 0.6083\n",
            "Epoch 56/100\n",
            "150/150 [==============================] - 156s 1s/step - loss: 0.8675 - acc: 0.5910 - val_loss: 0.7582 - val_acc: 0.6917\n",
            "Epoch 57/100\n",
            "150/150 [==============================] - 158s 1s/step - loss: 0.8557 - acc: 0.5908 - val_loss: 0.8546 - val_acc: 0.6250\n",
            "Epoch 58/100\n",
            "150/150 [==============================] - 158s 1s/step - loss: 0.8541 - acc: 0.5995 - val_loss: 0.8525 - val_acc: 0.5833\n",
            "Epoch 59/100\n",
            "150/150 [==============================] - 159s 1s/step - loss: 0.8441 - acc: 0.6162 - val_loss: 0.9196 - val_acc: 0.5000\n",
            "Epoch 60/100\n",
            "150/150 [==============================] - 158s 1s/step - loss: 0.8533 - acc: 0.6127 - val_loss: 0.9352 - val_acc: 0.5833\n",
            "Epoch 61/100\n",
            "150/150 [==============================] - 158s 1s/step - loss: 0.8603 - acc: 0.5948 - val_loss: 0.8805 - val_acc: 0.6000\n",
            "Epoch 62/100\n",
            "150/150 [==============================] - 157s 1s/step - loss: 0.8598 - acc: 0.5978 - val_loss: 0.8130 - val_acc: 0.5750\n",
            "Epoch 63/100\n",
            "150/150 [==============================] - 157s 1s/step - loss: 0.8485 - acc: 0.5917 - val_loss: 0.8682 - val_acc: 0.6750\n",
            "Epoch 64/100\n",
            "150/150 [==============================] - 157s 1s/step - loss: 0.8549 - acc: 0.5921 - val_loss: 0.7091 - val_acc: 0.6667\n",
            "Epoch 65/100\n",
            "150/150 [==============================] - 156s 1s/step - loss: 0.8482 - acc: 0.6015 - val_loss: 0.7877 - val_acc: 0.6250\n",
            "Epoch 66/100\n",
            "150/150 [==============================] - 156s 1s/step - loss: 0.8450 - acc: 0.6098 - val_loss: 0.7277 - val_acc: 0.6667\n",
            "Epoch 67/100\n",
            "150/150 [==============================] - 155s 1s/step - loss: 0.8600 - acc: 0.5958 - val_loss: 0.8624 - val_acc: 0.6250\n",
            "Epoch 68/100\n",
            "150/150 [==============================] - 162s 1s/step - loss: 0.8411 - acc: 0.6068 - val_loss: 0.8696 - val_acc: 0.5417\n",
            "Epoch 69/100\n",
            "150/150 [==============================] - 162s 1s/step - loss: 0.8314 - acc: 0.6081 - val_loss: 1.0363 - val_acc: 0.5250\n",
            "Epoch 70/100\n",
            "150/150 [==============================] - 162s 1s/step - loss: 0.8500 - acc: 0.6025 - val_loss: 0.9064 - val_acc: 0.5250\n",
            "Epoch 71/100\n",
            "150/150 [==============================] - 165s 1s/step - loss: 0.8320 - acc: 0.6165 - val_loss: 0.8183 - val_acc: 0.6250\n",
            "Epoch 72/100\n",
            "150/150 [==============================] - 163s 1s/step - loss: 0.8493 - acc: 0.5945 - val_loss: 0.8596 - val_acc: 0.5917\n",
            "Epoch 73/100\n",
            "150/150 [==============================] - 162s 1s/step - loss: 0.8544 - acc: 0.5973 - val_loss: 0.8308 - val_acc: 0.6250\n",
            "Epoch 74/100\n",
            "150/150 [==============================] - 162s 1s/step - loss: 0.8333 - acc: 0.6147 - val_loss: 0.9561 - val_acc: 0.5333\n",
            "Epoch 75/100\n",
            "150/150 [==============================] - 161s 1s/step - loss: 0.8352 - acc: 0.6158 - val_loss: 0.8476 - val_acc: 0.6167\n",
            "Epoch 76/100\n",
            "150/150 [==============================] - 162s 1s/step - loss: 0.8374 - acc: 0.6050 - val_loss: 0.8321 - val_acc: 0.6083\n",
            "Epoch 77/100\n",
            "150/150 [==============================] - 162s 1s/step - loss: 0.8247 - acc: 0.6198 - val_loss: 0.7536 - val_acc: 0.6500\n",
            "Epoch 78/100\n",
            "150/150 [==============================] - 161s 1s/step - loss: 0.8326 - acc: 0.6108 - val_loss: 0.8337 - val_acc: 0.6167\n",
            "Epoch 79/100\n",
            "150/150 [==============================] - 162s 1s/step - loss: 0.8485 - acc: 0.5995 - val_loss: 0.9050 - val_acc: 0.5750\n",
            "Epoch 80/100\n",
            "150/150 [==============================] - 161s 1s/step - loss: 0.8384 - acc: 0.6175 - val_loss: 0.8819 - val_acc: 0.6000\n",
            "Epoch 81/100\n",
            "150/150 [==============================] - 161s 1s/step - loss: 0.8331 - acc: 0.6101 - val_loss: 0.8378 - val_acc: 0.6417\n",
            "Epoch 82/100\n",
            "150/150 [==============================] - 161s 1s/step - loss: 0.8229 - acc: 0.6212 - val_loss: 0.8448 - val_acc: 0.5833\n",
            "Epoch 83/100\n",
            "150/150 [==============================] - 162s 1s/step - loss: 0.8337 - acc: 0.6132 - val_loss: 0.8567 - val_acc: 0.6000\n",
            "Epoch 84/100\n",
            "150/150 [==============================] - 162s 1s/step - loss: 0.8396 - acc: 0.6051 - val_loss: 0.8008 - val_acc: 0.6250\n",
            "Epoch 85/100\n",
            "150/150 [==============================] - 162s 1s/step - loss: 0.8413 - acc: 0.5993 - val_loss: 0.8428 - val_acc: 0.6000\n",
            "Epoch 86/100\n",
            "150/150 [==============================] - 162s 1s/step - loss: 0.8283 - acc: 0.6128 - val_loss: 0.8402 - val_acc: 0.6083\n",
            "Epoch 87/100\n",
            "150/150 [==============================] - 162s 1s/step - loss: 0.8355 - acc: 0.6085 - val_loss: 0.8484 - val_acc: 0.5917\n",
            "Epoch 88/100\n",
            "150/150 [==============================] - 163s 1s/step - loss: 0.8305 - acc: 0.6203 - val_loss: 0.8572 - val_acc: 0.5833\n",
            "Epoch 89/100\n",
            "150/150 [==============================] - 162s 1s/step - loss: 0.8464 - acc: 0.5978 - val_loss: 0.8417 - val_acc: 0.6583\n",
            "Epoch 90/100\n",
            "150/150 [==============================] - 163s 1s/step - loss: 0.8281 - acc: 0.6172 - val_loss: 0.8016 - val_acc: 0.5750\n",
            "Epoch 91/100\n",
            "150/150 [==============================] - 168s 1s/step - loss: 0.8212 - acc: 0.6172 - val_loss: 0.8132 - val_acc: 0.5417\n",
            "Epoch 92/100\n",
            "150/150 [==============================] - 165s 1s/step - loss: 0.8288 - acc: 0.6035 - val_loss: 0.7958 - val_acc: 0.6083\n",
            "Epoch 93/100\n",
            "150/150 [==============================] - 164s 1s/step - loss: 0.8294 - acc: 0.6085 - val_loss: 0.7728 - val_acc: 0.6583\n",
            "Epoch 94/100\n",
            "150/150 [==============================] - 164s 1s/step - loss: 0.8288 - acc: 0.6168 - val_loss: 0.8367 - val_acc: 0.5583\n",
            "Epoch 95/100\n",
            "150/150 [==============================] - 165s 1s/step - loss: 0.8151 - acc: 0.6212 - val_loss: 0.9279 - val_acc: 0.6500\n",
            "Epoch 96/100\n",
            "150/150 [==============================] - 163s 1s/step - loss: 0.8366 - acc: 0.6168 - val_loss: 0.8416 - val_acc: 0.6000\n",
            "Epoch 97/100\n",
            "150/150 [==============================] - 163s 1s/step - loss: 0.8285 - acc: 0.6113 - val_loss: 0.8199 - val_acc: 0.5917\n",
            "Epoch 98/100\n",
            "150/150 [==============================] - 165s 1s/step - loss: 0.8192 - acc: 0.6150 - val_loss: 0.7791 - val_acc: 0.6500\n",
            "Epoch 99/100\n",
            "150/150 [==============================] - 164s 1s/step - loss: 0.8336 - acc: 0.6071 - val_loss: 0.7591 - val_acc: 0.6500\n",
            "Epoch 100/100\n",
            "150/150 [==============================] - 163s 1s/step - loss: 0.8193 - acc: 0.6172 - val_loss: 0.8885 - val_acc: 0.6500\n"
          ]
        }
      ],
      "source": [
        "history = model.fit_generator(\n",
        "      train_generator,\n",
        "      steps_per_epoch=150,\n",
        "      epochs=100,\n",
        "      validation_data=validation_generator,\n",
        "      validation_steps=6)"
      ]
    },
    {
      "cell_type": "code",
      "execution_count": null,
      "metadata": {
        "colab": {
          "base_uri": "https://localhost:8080/",
          "height": 324
        },
        "id": "shSZOU4iIDUw",
        "outputId": "ef8b6fe3-b3c8-4d68-b411-215d4fef4a83"
      },
      "outputs": [
        {
          "output_type": "display_data",
          "data": {
            "image/png": "[encoded data removed]",
            "text/plain": [
              "<Figure size 576x360 with 1 Axes>"
            ]
          },
          "metadata": {
            "needs_background": "light"
          }
        }
      ],
      "source": [
        "pd.DataFrame(history.history).plot(figsize=(8, 5))\n",
        "plt.grid(True)\n",
        "plt.gca().set_ylim(0, 1)\n",
        "plt.show()"
      ]
    }
  ],
  "metadata": {
    "colab": {
      "collapsed_sections": [],
      "name": "densnet_cnn.ipynb",
      "provenance": [],
      "include_colab_link": true
    },
    "kernelspec": {
      "display_name": "Python 3",
      "name": "python3"
    },
    "language_info": {
      "name": "python"
    }
  },
  "nbformat": 4,
  "nbformat_minor": 0
}